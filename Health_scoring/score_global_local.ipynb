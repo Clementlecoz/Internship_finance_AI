{
 "cells": [
  {
   "cell_type": "markdown",
   "id": "f0914899",
   "metadata": {},
   "source": [
    "### Method which combined global/local percentil score "
   ]
  },
  {
   "cell_type": "code",
   "execution_count": 102,
   "id": "3c7dec47",
   "metadata": {},
   "outputs": [],
   "source": [
    "import pandas as pd\n",
    "import numpy as np"
   ]
  },
  {
   "cell_type": "code",
   "execution_count": 104,
   "id": "3fde39ad",
   "metadata": {},
   "outputs": [
    {
     "data": {
      "text/html": [
       "<div>\n",
       "<style scoped>\n",
       "    .dataframe tbody tr th:only-of-type {\n",
       "        vertical-align: middle;\n",
       "    }\n",
       "\n",
       "    .dataframe tbody tr th {\n",
       "        vertical-align: top;\n",
       "    }\n",
       "\n",
       "    .dataframe thead th {\n",
       "        text-align: right;\n",
       "    }\n",
       "</style>\n",
       "<table border=\"1\" class=\"dataframe\">\n",
       "  <thead>\n",
       "    <tr style=\"text-align: right;\">\n",
       "      <th></th>\n",
       "      <th>company</th>\n",
       "      <th>date</th>\n",
       "      <th>quarter</th>\n",
       "      <th>country</th>\n",
       "      <th>ROA</th>\n",
       "      <th>ROE</th>\n",
       "      <th>debt_to_equity</th>\n",
       "      <th>current_ratio</th>\n",
       "      <th>net_margin</th>\n",
       "      <th>revenue_growth</th>\n",
       "      <th>cash_ratio</th>\n",
       "      <th>inflation_YoY</th>\n",
       "      <th>gdp_growth_rate</th>\n",
       "      <th>interest_rate</th>\n",
       "    </tr>\n",
       "  </thead>\n",
       "  <tbody>\n",
       "    <tr>\n",
       "      <th>0</th>\n",
       "      <td>Banco Santander</td>\n",
       "      <td>2024-09-30</td>\n",
       "      <td>2024-Q3</td>\n",
       "      <td>Spain</td>\n",
       "      <td>NaN</td>\n",
       "      <td>NaN</td>\n",
       "      <td>16,15</td>\n",
       "      <td>0,33</td>\n",
       "      <td>NaN</td>\n",
       "      <td>6,2414</td>\n",
       "      <td>NaN</td>\n",
       "      <td>0,0217</td>\n",
       "      <td>0,0080</td>\n",
       "      <td>0,0365</td>\n",
       "    </tr>\n",
       "    <tr>\n",
       "      <th>1</th>\n",
       "      <td>Banco Santander</td>\n",
       "      <td>2024-06-30</td>\n",
       "      <td>2024-Q2</td>\n",
       "      <td>Spain</td>\n",
       "      <td>0,63</td>\n",
       "      <td>0,109</td>\n",
       "      <td>16,23</td>\n",
       "      <td>0,23</td>\n",
       "      <td>0,0906</td>\n",
       "      <td>-0,8712</td>\n",
       "      <td>0,23</td>\n",
       "      <td>0,0346</td>\n",
       "      <td>0,0080</td>\n",
       "      <td>0,0425</td>\n",
       "    </tr>\n",
       "    <tr>\n",
       "      <th>2</th>\n",
       "      <td>Banco Santander</td>\n",
       "      <td>2024-03-31</td>\n",
       "      <td>2024-Q1</td>\n",
       "      <td>Spain</td>\n",
       "      <td>0,6</td>\n",
       "      <td>0,1043</td>\n",
       "      <td>16,14</td>\n",
       "      <td>0,24</td>\n",
       "      <td>0,087</td>\n",
       "      <td>-0,6185</td>\n",
       "      <td>0,24</td>\n",
       "      <td>0,0314</td>\n",
       "      <td>0,0100</td>\n",
       "      <td>0,0450</td>\n",
       "    </tr>\n",
       "    <tr>\n",
       "      <th>3</th>\n",
       "      <td>Banco Santander</td>\n",
       "      <td>2023-12-31</td>\n",
       "      <td>2023-Q4</td>\n",
       "      <td>Spain</td>\n",
       "      <td>0,59</td>\n",
       "      <td>0,1035</td>\n",
       "      <td>16,24</td>\n",
       "      <td>0,35</td>\n",
       "      <td>0,0886</td>\n",
       "      <td>22,1927</td>\n",
       "      <td>0,34</td>\n",
       "      <td>0,0327</td>\n",
       "      <td>0,0070</td>\n",
       "      <td>0,0450</td>\n",
       "    </tr>\n",
       "    <tr>\n",
       "      <th>4</th>\n",
       "      <td>Banco Santander</td>\n",
       "      <td>2023-09-30</td>\n",
       "      <td>2023-Q3</td>\n",
       "      <td>Spain</td>\n",
       "      <td>0,55</td>\n",
       "      <td>0,0968</td>\n",
       "      <td>16,66</td>\n",
       "      <td>0,31</td>\n",
       "      <td>0,1044</td>\n",
       "      <td>0,0201</td>\n",
       "      <td>0,31</td>\n",
       "      <td>0,0282</td>\n",
       "      <td>0,0070</td>\n",
       "      <td>0,0450</td>\n",
       "    </tr>\n",
       "  </tbody>\n",
       "</table>\n",
       "</div>"
      ],
      "text/plain": [
       "           company        date  quarter country   ROA     ROE debt_to_equity current_ratio net_margin revenue_growth cash_ratio inflation_YoY gdp_growth_rate interest_rate\n",
       "0  Banco Santander  2024-09-30  2024-Q3   Spain   NaN     NaN          16,15          0,33        NaN         6,2414        NaN        0,0217          0,0080        0,0365\n",
       "1  Banco Santander  2024-06-30  2024-Q2   Spain  0,63   0,109          16,23          0,23     0,0906        -0,8712       0,23        0,0346          0,0080        0,0425\n",
       "2  Banco Santander  2024-03-31  2024-Q1   Spain   0,6  0,1043          16,14          0,24      0,087        -0,6185       0,24        0,0314          0,0100        0,0450\n",
       "3  Banco Santander  2023-12-31  2023-Q4   Spain  0,59  0,1035          16,24          0,35     0,0886        22,1927       0,34        0,0327          0,0070        0,0450\n",
       "4  Banco Santander  2023-09-30  2023-Q3   Spain  0,55  0,0968          16,66          0,31     0,1044         0,0201       0,31        0,0282          0,0070        0,0450"
      ]
     },
     "execution_count": 104,
     "metadata": {},
     "output_type": "execute_result"
    }
   ],
   "source": [
    "dataset1=pd.read_csv(\"../dataset_unified.csv\", sep=\";\")\n",
    "dataset1.head()"
   ]
  },
  {
   "cell_type": "code",
   "execution_count": 105,
   "id": "c36b9d57",
   "metadata": {},
   "outputs": [
    {
     "name": "stdout",
     "output_type": "stream",
     "text": [
      "ROA                float64\n",
      "ROE                float64\n",
      "net_margin         float64\n",
      "current_ratio      float64\n",
      "cash_ratio         float64\n",
      "debt_to_equity     float64\n",
      "revenue_growth     float64\n",
      "inflation_YoY      float64\n",
      "gdp_growth_rate    float64\n",
      "interest_rate      float64\n",
      "dtype: object\n"
     ]
    }
   ],
   "source": [
    "indicators_to_clean = [\n",
    "    'ROA', 'ROE', 'net_margin', 'current_ratio',\n",
    "    'cash_ratio', 'debt_to_equity', 'revenue_growth',\n",
    "    'inflation_YoY', 'gdp_growth_rate', 'interest_rate'\n",
    "]\n",
    "\n",
    "# STEP 1: Clean all comma-based numbers → dots, then convert to numeric\n",
    "for col in indicators_to_clean:\n",
    "    dataset1[col] = (\n",
    "        dataset1[col]\n",
    "        .astype(str)\n",
    "        .str.replace(',', '.', regex=False)     # Convert commas to dots\n",
    "        .replace('nan', np.nan)                 # Replace string 'nan' with real NaN\n",
    "    )\n",
    "    dataset1[col] = pd.to_numeric(dataset1[col], errors='coerce')  # Convert to float\n",
    "\n",
    "print(dataset1[indicators_to_clean].dtypes)"
   ]
  },
  {
   "cell_type": "code",
   "execution_count": 106,
   "id": "ab0f672e",
   "metadata": {},
   "outputs": [],
   "source": [
    "# Fonction pour appliquer le percentile local (rank normalisé)\n",
    "def compute_local_percentile(df, column):\n",
    "    return df.groupby('company')[column].rank(pct=True)\n",
    "\n",
    "# Appliquer aux colonnes clés\n",
    "dataset1['ROA_pct'] = compute_local_percentile(dataset1, 'ROA')\n",
    "dataset1['ROE_pct'] = compute_local_percentile(dataset1, 'ROE')\n",
    "dataset1['net_margin_pct'] = compute_local_percentile(dataset1, 'net_margin')\n",
    "dataset1['current_ratio_pct'] = compute_local_percentile(dataset1, 'current_ratio')\n",
    "dataset1['cash_ratio_pct'] = compute_local_percentile(dataset1, 'cash_ratio')\n",
    "dataset1['debt_to_equity_pct'] = compute_local_percentile(dataset1, 'debt_to_equity')\n"
   ]
  },
  {
   "cell_type": "code",
   "execution_count": 107,
   "id": "8ae7ddd6",
   "metadata": {},
   "outputs": [],
   "source": [
    "# Score 1: Profitabilité\n",
    "dataset1['score_profitability_local'] = dataset1[['ROA_pct', 'ROE_pct', 'net_margin_pct']].mean(axis=1)\n",
    "\n",
    "# Score 2: Liquidité\n",
    "dataset1['score_liquidity_local'] = dataset1[['current_ratio_pct', 'cash_ratio_pct']].mean(axis=1)\n",
    "\n",
    "# Score 3: Solvabilité — attention, plus debt_to_equity est bas, mieux c’est\n",
    "dataset1['score_solvency_local'] = 1 - dataset1['debt_to_equity_pct']\n",
    "\n",
    "# Score 4: Profitabilité ajustée à l'endettement\n",
    "dataset1['inv_debt_pct'] = 1 - dataset1['debt_to_equity_pct']\n",
    "dataset1['score_leverage_adjusted_local'] = dataset1[['ROE_pct', 'inv_debt_pct']].mean(axis=1)\n"
   ]
  },
  {
   "cell_type": "code",
   "execution_count": null,
   "id": "91e41f10",
   "metadata": {},
   "outputs": [
    {
     "name": "stdout",
     "output_type": "stream",
     "text": [
      "           company  quarter  score_profitability_local  score_liquidity_local  score_solvency_local  score_leverage_adjusted_local\n",
      "0  Banco Santander  2024-Q3                        NaN               0.255319              0.191489                       0.021277\n",
      "1  Banco Santander  2024-Q2                   0.913043               0.063830              0.170213                       0.659574\n",
      "2  Banco Santander  2024-Q1                   0.739130               0.127660              0.212766                       0.702128\n",
      "3  Banco Santander  2023-Q4                   0.739130               0.382979              0.148936                       0.574468\n",
      "4  Banco Santander  2023-Q3                   0.891304               0.223404              0.085106                       0.446809\n",
      "5  Banco Santander  2023-Q2                   0.695652               0.127660              0.127660                       0.425532\n",
      "6  Banco Santander  2023-Q1                   0.630435               0.127660              0.106383                       0.340426\n",
      "7  Banco Santander  2022-Q4                   0.815217               0.319149              0.042553                       0.319149\n",
      "8  Banco Santander  2022-Q3                   1.000000               0.510638              0.021277                       0.382979\n",
      "9  Banco Santander  2022-Q2                   0.978261               0.680851              0.063830                       0.361702\n"
     ]
    }
   ],
   "source": [
    "cols = ['company', 'quarter', 'score_profitability_local', 'score_liquidity_local', 'score_solvency_local', 'score_leverage_adjusted_local']\n",
    "print(dataset1[cols].head(10))\n"
   ]
  },
  {
   "cell_type": "code",
   "execution_count": 108,
   "id": "7ffdc54c",
   "metadata": {},
   "outputs": [],
   "source": [
    "def compute_global_percentile(df, column):\n",
    "    return df[column].rank(pct=True)\n",
    "\n",
    "# Appliquer le percentile global\n",
    "dataset1['ROA_pct_global'] = compute_global_percentile(dataset1, 'ROA')\n",
    "dataset1['ROE_pct_global'] = compute_global_percentile(dataset1, 'ROE')\n",
    "dataset1['net_margin_pct_global'] = compute_global_percentile(dataset1, 'net_margin')\n",
    "dataset1['current_ratio_pct_global'] = compute_global_percentile(dataset1, 'current_ratio')\n",
    "dataset1['cash_ratio_pct_global'] = compute_global_percentile(dataset1, 'cash_ratio')\n",
    "dataset1['debt_to_equity_pct_global'] = compute_global_percentile(dataset1, 'debt_to_equity')\n",
    "\n",
    "dataset1['debt_to_equity_pct_global'] = 1- dataset1['debt_to_equity_pct_global']  # Inverser pour la solvabilité"
   ]
  },
  {
   "cell_type": "code",
   "execution_count": 109,
   "id": "a3b2229a",
   "metadata": {},
   "outputs": [],
   "source": [
    "# Score global\n",
    "dataset1['score_profitabilty_global']= dataset1[['ROA_pct_global','ROE_pct_global','net_margin_pct_global']].mean(axis=1)\n",
    "dataset1['score_liquidity_global'] = dataset1[['current_ratio_pct_global','cash_ratio_pct_global']].mean(axis=1)\n",
    "dataset1['score_solvency_global'] = dataset1['debt_to_equity_pct_global']\n",
    "dataset1['score_leverage_adjusted_global'] = dataset1[['ROE_pct_global', 'debt_to_equity_pct_global']].mean(axis=1)\n",
    "\n"
   ]
  },
  {
   "cell_type": "code",
   "execution_count": null,
   "id": "0881c8cf",
   "metadata": {},
   "outputs": [
    {
     "name": "stdout",
     "output_type": "stream",
     "text": [
      "           company  quarter  score_profitabilty_global  score_liquidity_global  score_solvency_global  score_leverage_adjusted_global\n",
      "0  Banco Santander  2024-Q3                        NaN                0.061538               0.343590                        0.343590\n",
      "1  Banco Santander  2024-Q2                   0.550775                0.041546               0.338462                        0.607619\n",
      "2  Banco Santander  2024-Q1                   0.523870                0.057051               0.348718                        0.600899\n",
      "3  Banco Santander  2023-Q4                   0.519894                0.220793               0.333333                        0.590837\n",
      "4  Banco Santander  2023-Q3                   0.510348                0.142808               0.317949                        0.559448\n",
      "5  Banco Santander  2023-Q2                   0.480298                0.057051               0.328205                        0.534956\n",
      "6  Banco Santander  2023-Q1                   0.459738                0.057051               0.323077                        0.515804\n",
      "7  Banco Santander  2022-Q4                   0.479508                0.218229               0.307692                        0.514036\n",
      "8  Banco Santander  2022-Q3                   0.589355                0.322316               0.302564                        0.554126\n",
      "9  Banco Santander  2022-Q2                   0.546720                0.781691               0.312821                        0.549775\n"
     ]
    }
   ],
   "source": [
    "cols=['company', 'quarter', 'score_profitabilty_global', 'score_liquidity_global', 'score_solvency_global', 'score_leverage_adjusted_global']\n",
    "print(dataset1[cols].head(10))"
   ]
  },
  {
   "cell_type": "code",
   "execution_count": 110,
   "id": "9b426d31",
   "metadata": {},
   "outputs": [],
   "source": [
    "# Remplace 'dataset1' par le nom de ta DataFrame si différent\n",
    "dataset1.to_csv(\"dataset1_complet.csv\", index=False)\n"
   ]
  },
  {
   "cell_type": "code",
   "execution_count": null,
   "id": "bdceb8a0",
   "metadata": {},
   "outputs": [
    {
     "data": {
      "text/plain": [
       "company                           JP Morgan Chase\n",
       "date                                   2015-12-31\n",
       "quarter                                   2015-Q4\n",
       "country                                       USA\n",
       "ROA                                          0.92\n",
       "                                       ...       \n",
       "trend_liquidity_global                  -0.119898\n",
       "trend_solvency_local                     0.076923\n",
       "trend_solvency_global                    0.082051\n",
       "trend_leverage_adjusted_local            0.163462\n",
       "trend_leverage_adjusted_global           0.109813\n",
       "Name: 198, Length: 84, dtype: object"
      ]
     },
     "execution_count": 97,
     "metadata": {},
     "output_type": "execute_result"
    }
   ],
   "source": [
    "dataset1.loc[dataset1['score_solvency_global'].idxmax()]\n"
   ]
  },
  {
   "cell_type": "code",
   "execution_count": null,
   "id": "dd438344",
   "metadata": {},
   "outputs": [
    {
     "name": "stdout",
     "output_type": "stream",
     "text": [
      "['company', 'date', 'quarter', 'country', 'ROA', 'ROE', 'debt_to_equity', 'current_ratio', 'net_margin', 'revenue_growth', 'cash_ratio', 'inflation_YoY', 'gdp_growth_rate', 'interest_rate', 'ROA_pct', 'ROE_pct', 'net_margin_pct', 'current_ratio_pct', 'cash_ratio_pct', 'debt_to_equity_pct', 'score_profitability', 'score_liquidity', 'score_solvency', 'inv_debt_pct', 'score_leverage_adjusted', 'ROA_pct_global', 'ROE_pct_global', 'net_margin_pct_global', 'current_ratio_pct_global', 'cash_ratio_pct_global', 'debt_to_equity_pct_global', 'score_profitabilty_global', 'score_liquidity_global', 'score_solvency_global', 'score_leverage_adjusted_global', 'score_profitability_global', 'score_profitability_local', 'score_liquidity_local', 'score_solvency_local', 'score_leverage_adjusted_local', 'score_profitability_local_flag', 'score_liquidity_local_flag', 'score_solvency_local_flag', 'score_leverage_adjusted_local_flag', 'score_profitability_global_global_flag', 'score_liquidity_global_global_flag', 'score_solvency_global_global_flag', 'score_leverage_adjusted_global_global_flag', 'score_profitability_global_flag', 'score_liquidity_global_flag', 'score_solvency_global_flag', 'score_leverage_adjusted_global_flag', 'Trend / Risk Summary', 'revenue_alert', 'Alert Summary', 'Overall Status', 'is_low_profitability_local', 'is_high_profitability_local', 'is_low_profitability_global', 'is_high_profitability_global', 'is_low_liquidity_local', 'is_high_liquidity_local', 'is_low_liquidity_global', 'is_high_liquidity_global', 'is_low_solvency_local', 'is_high_solvency_local', 'is_low_solvency_global', 'is_high_solvency_global', 'is_low_leverage_adjusted_local', 'is_high_leverage_adjusted_local', 'is_low_leverage_adjusted_global', 'is_high_leverage_adjusted_global', 'anomaly_low_profitability', 'anomaly_low_liquidity', 'anomaly_low_solvency', 'anomaly_low_leverage_adjusted', 'trend_profitability_local', 'trend_profitability_global', 'trend_liquidity_local', 'trend_liquidity_global', 'trend_solvency_local', 'trend_solvency_global', 'trend_leverage_adjusted_local', 'trend_leverage_adjusted_global']\n"
     ]
    }
   ],
   "source": [
    "print(dataset1.columns.tolist())\n"
   ]
  },
  {
   "cell_type": "code",
   "execution_count": null,
   "id": "1891c5c0",
   "metadata": {},
   "outputs": [
    {
     "data": {
      "application/vnd.jupyter.widget-view+json": {
       "model_id": "eb18cc5a5c754926a92b90f835142e0c",
       "version_major": 2,
       "version_minor": 0
      },
      "text/plain": [
       "Dropdown(description='Company:', index=1, options=('BNP Paribas', 'Banco Santander', 'Crédit Agricole', 'HSBC'…"
      ]
     },
     "metadata": {},
     "output_type": "display_data"
    },
    {
     "data": {
      "application/vnd.jupyter.widget-view+json": {
       "model_id": "d14eba1f979a432eac1ca47e419455e0",
       "version_major": 2,
       "version_minor": 0
      },
      "text/plain": [
       "Output()"
      ]
     },
     "metadata": {},
     "output_type": "display_data"
    }
   ],
   "source": [
    "import pandas as pd\n",
    "import ipywidgets as widgets\n",
    "from IPython.display import display, clear_output\n",
    "\n",
    "# Seuils top/bas\n",
    "BOTTOM = 0.10\n",
    "TOP = 0.90\n",
    "\n",
    "# Fonction de classification simple\n",
    "def classify_percentile(p):\n",
    "    if pd.isna(p):\n",
    "        return 'Missing'\n",
    "    elif p <= BOTTOM:\n",
    "        return 'Bottom 10%'\n",
    "    elif p >= TOP:\n",
    "        return 'Top 10%'\n",
    "    else:\n",
    "        return 'Middle'\n",
    "\n",
    "# Appliquer les flags de percentiles à chaque score\n",
    "for col in ['score_profitability', 'score_liquidity', 'score_solvency', 'score_leverage_adjusted']:\n",
    "    dataset1[f'{col}_global_flag'] = dataset1[f'{col}_global'].apply(classify_percentile)\n",
    "    dataset1[f'{col}_local_flag'] = dataset1[f'{col}_local'].apply(classify_percentile)\n",
    "\n",
    "# Fonction pour interpréter les anomalies\n",
    "def interpret_combined_flags(row):\n",
    "    alerts = []\n",
    "    metrics = ['score_profitability', 'score_liquidity', 'score_solvency', 'score_leverage_adjusted']\n",
    "    for metric in metrics:\n",
    "        g_flag = row.get(f'{metric}_global_flag')\n",
    "        l_flag = row.get(f'{metric}_local_flag')\n",
    "\n",
    "        if g_flag == 'Bottom 10%' and l_flag == 'Bottom 10%':\n",
    "            alerts.append(f\"{metric.replace('score_', '').capitalize()}: Global & Local Bottom → ⚠️\")\n",
    "        elif g_flag == 'Top 10%' and l_flag == 'Top 10%':\n",
    "            alerts.append(f\"{metric.replace('score_', '').capitalize()}: Strong signal ✅\")\n",
    "        elif g_flag == 'Bottom 10%' and l_flag == 'Top 10%':\n",
    "            alerts.append(f\"{metric.replace('score_', '').capitalize()}: Outperforms peers ↗️\")\n",
    "        elif g_flag == 'Top 10%' and l_flag == 'Bottom 10%':\n",
    "            alerts.append(f\"{metric.replace('score_', '').capitalize()}: Underperforms sector ↘️\")\n",
    "    return \"; \".join(alerts) if alerts else \"No major divergence\"\n",
    "\n",
    "dataset1['Trend / Risk Summary'] = dataset1.apply(interpret_combined_flags, axis=1)\n",
    "\n",
    "# Widget de sélection de société\n",
    "company_dropdown = widgets.Dropdown(\n",
    "    options=sorted(dataset1['company'].unique()),\n",
    "    description='Company:',\n",
    "    value='Banco Santander'\n",
    ")\n",
    "\n",
    "output = widgets.Output()\n",
    "\n",
    "def update_table(change):\n",
    "    with output:\n",
    "        clear_output()\n",
    "        company = change['new']\n",
    "        df = dataset1[dataset1['company'] == company].copy()\n",
    "\n",
    "        # Colonnes à afficher\n",
    "        display(df[[\n",
    "            'quarter',\n",
    "            'score_profitability', 'score_profitability_local_flag', 'score_profitability_global_flag',\n",
    "            'score_liquidity', 'score_liquidity_local_flag', 'score_liquidity_global_flag',\n",
    "            'score_solvency', 'score_solvency_local_flag', 'score_solvency_global_flag',\n",
    "            'score_leverage_adjusted', 'score_leverage_adjusted_local_flag', 'score_leverage_adjusted_global_flag',\n",
    "            'Trend / Risk Summary'\n",
    "        ]].reset_index(drop=True))\n",
    "\n",
    "# Affichage\n",
    "company_dropdown.observe(update_table, names='value')\n",
    "display(company_dropdown, output)\n",
    "update_table({'new': company_dropdown.value})\n"
   ]
  },
  {
   "cell_type": "code",
   "execution_count": null,
   "id": "679eea52",
   "metadata": {},
   "outputs": [
    {
     "data": {
      "application/vnd.jupyter.widget-view+json": {
       "model_id": "8a0b8ec11c2c4ea693b4ae698a247e79",
       "version_major": 2,
       "version_minor": 0
      },
      "text/plain": [
       "Dropdown(description='Company:', options=('BNP Paribas', 'Banco Santander', 'Crédit Agricole', 'HSBC', 'JP Mor…"
      ]
     },
     "metadata": {},
     "output_type": "display_data"
    },
    {
     "data": {
      "application/vnd.jupyter.widget-view+json": {
       "model_id": "89061a9fe85d4ee68f99e460ddb2097f",
       "version_major": 2,
       "version_minor": 0
      },
      "text/plain": [
       "Output()"
      ]
     },
     "metadata": {},
     "output_type": "display_data"
    }
   ],
   "source": [
    "import pandas as pd\n",
    "import ipywidgets as widgets\n",
    "from IPython.display import display, clear_output\n",
    "\n",
    "# Définir les seuils\n",
    "thresholds = {\n",
    "    'low': 0.1,\n",
    "    'high': 0.9\n",
    "}\n",
    "\n",
    "# Classer le percentile\n",
    "def flag_percentile(p):\n",
    "    if pd.isna(p): return 'Missing'\n",
    "    elif p <= thresholds['low']: return 'Bottom 10%'\n",
    "    elif p >= thresholds['high']: return 'Top 10%'\n",
    "    else: return 'Middle'\n",
    "\n",
    "# Appliquer flags\n",
    "for col in ['score_profitability', 'score_liquidity', 'score_solvency', 'score_leverage_adjusted']:\n",
    "    dataset1[f'{col}_global_flag'] = dataset1[f'{col}_global'].apply(flag_percentile)\n",
    "    dataset1[f'{col}_local_flag'] = dataset1[f'{col}_local'].apply(flag_percentile)\n",
    "\n",
    "# Revenue growth : alerte simple\n",
    "def revenue_alert(x):\n",
    "    if pd.isna(x): return \"Unknown\"\n",
    "    elif x < -0.1: return \"Rev ↓\"\n",
    "    elif x > 0.1: return \"Rev ↑\"\n",
    "    else: return \"Stable\"\n",
    "\n",
    "dataset1['revenue_alert'] = dataset1['revenue_growth'].apply(revenue_alert)\n",
    "\n",
    "# Résumé alerte\n",
    "def alert_summary(row):\n",
    "    reds, greens, stables = [], [], []\n",
    "    for col, name in [\n",
    "        ('score_profitability', 'Profitability'),\n",
    "        ('score_liquidity', 'Liquidity'),\n",
    "        ('score_solvency', 'Solvency'),\n",
    "        ('score_leverage_adjusted', 'Adj. Leverage')\n",
    "    ]:\n",
    "        val = row.get(col)\n",
    "        if pd.isna(val): continue\n",
    "        if val < thresholds['low']:\n",
    "            reds.append(name)\n",
    "        elif val > thresholds['high']:\n",
    "            greens.append(name)\n",
    "        else:\n",
    "            stables.append(name)\n",
    "    parts = []\n",
    "    if reds:\n",
    "        parts.append(\"Red (\" + \", \".join(reds) + \")\")\n",
    "    if greens:\n",
    "        parts.append(\"Green (\" + \", \".join(greens) + \")\")\n",
    "    if not reds and not greens and stables:\n",
    "        parts.append(\"Stable (\" + \", \".join(stables) + \")\")\n",
    "    if not parts:\n",
    "        parts.append(\"Missing\")\n",
    "    if row['revenue_alert'] in ['Rev ↓', 'Rev ↑']:\n",
    "        parts.append(row['revenue_alert'])\n",
    "    return \", \".join(parts)\n",
    "\n",
    "dataset1['Alert Summary'] = dataset1.apply(alert_summary, axis=1)\n",
    "\n",
    "# Statut global\n",
    "def global_status(row):\n",
    "    indicators = ['score_profitability', 'score_liquidity', 'score_solvency', 'score_leverage_adjusted']\n",
    "    red = sum(row[col] < thresholds['low'] for col in indicators if pd.notna(row[col]))\n",
    "    green = sum(row[col] > thresholds['high'] for col in indicators if pd.notna(row[col]))\n",
    "    leverage = row['score_leverage_adjusted']\n",
    "    rev = row['revenue_alert']\n",
    "\n",
    "    if leverage is not None and leverage < thresholds['low']:\n",
    "        return \"Leveraged Risk\"\n",
    "    if leverage is not None and leverage > thresholds['high'] and red == 0 and rev == \"Rev ↑\":\n",
    "        return \"Excellent Health\"\n",
    "    if leverage is not None and leverage > thresholds['high'] and red == 0:\n",
    "        return \"Strong Capital Efficiency\"\n",
    "    if red >= 3:\n",
    "        return \"Critical Risk\"\n",
    "    if red == 2:\n",
    "        return \"Danger\"\n",
    "    if green >= 2 and red == 0 and leverage <= thresholds['high']:\n",
    "        return \"Strong\"\n",
    "    if green >= 2 and red <= 1 or (green >= 1 and red == 0):\n",
    "        return \"Good signal\"\n",
    "    if red == green and red > 0:\n",
    "        return \"Mixed Risk\"\n",
    "    if red == 1 and green == 0:\n",
    "        return \"Caution\"\n",
    "    if all(0.2 <= row[col] <= 0.8 for col in indicators if pd.notna(row[col])):\n",
    "        return \"Stable\"\n",
    "    return \"Watch\"\n",
    "\n",
    "dataset1[\"Overall Status\"] = dataset1.apply(global_status, axis=1)\n",
    "\n",
    "# Widget pour sélection de société\n",
    "dropdown = widgets.Dropdown(\n",
    "    options=sorted(dataset1['company'].dropna().unique()),\n",
    "    description='Company:',\n",
    "    value=dataset1['company'].dropna().unique()[0]\n",
    ")\n",
    "\n",
    "output = widgets.Output()\n",
    "\n",
    "def display_summary(change):\n",
    "    with output:\n",
    "        clear_output()\n",
    "        df = dataset1[dataset1['company'] == change['new']].copy()\n",
    "        df = df[[\n",
    "            'quarter',\n",
    "            'score_profitability', 'score_profitability_local_flag', 'score_profitability_global_flag',\n",
    "            'score_liquidity', 'score_liquidity_local_flag', 'score_liquidity_global_flag',\n",
    "            'score_solvency', 'score_solvency_local_flag', 'score_solvency_global_flag',\n",
    "            'score_leverage_adjusted', 'score_leverage_adjusted_local_flag', 'score_leverage_adjusted_global_flag',\n",
    "            'revenue_alert', 'Alert Summary', 'Overall Status'\n",
    "        ]].reset_index(drop=True)\n",
    "        display(df)\n",
    "\n",
    "# Lancer\n",
    "dropdown.observe(display_summary, names='value')\n",
    "display(dropdown, output)\n",
    "display_summary({'new': dropdown.value})\n"
   ]
  },
  {
   "cell_type": "code",
   "execution_count": null,
   "id": "7a443066",
   "metadata": {},
   "outputs": [],
   "source": [
    "# Thresholds\n",
    "low_threshold = 0.1\n",
    "high_threshold = 0.9\n",
    "\n",
    "# Helper: flag anomalies\n",
    "def flag_anomalies(df, score_col, suffix):\n",
    "    df[f'is_low_{suffix}'] = df[score_col] < low_threshold\n",
    "    df[f'is_high_{suffix}'] = df[score_col] > high_threshold\n",
    "    return df\n",
    "\n",
    "# Apply to each score type\n",
    "for score_type in ['profitability', 'liquidity', 'solvency', 'leverage_adjusted']:\n",
    "    dataset1 = flag_anomalies(dataset1, f'score_{score_type}_local', f'{score_type}_local')\n",
    "    dataset1 = flag_anomalies(dataset1, f'score_{score_type}_global', f'{score_type}_global')\n",
    "\n",
    "# Combined anomaly detection (low local + low global)\n",
    "for score_type in ['profitability', 'liquidity', 'solvency', 'leverage_adjusted']:\n",
    "    dataset1[f'anomaly_low_{score_type}'] = (\n",
    "        dataset1[f'is_low_{score_type}_local'] & dataset1[f'is_low_{score_type}_global']\n",
    "    )\n",
    "\n",
    "# Optional: trend over time (score delta vs previous quarter)\n",
    "dataset1 = dataset1.sort_values(by=['company', 'quarter'])\n",
    "for score_type in ['profitability', 'liquidity', 'solvency', 'leverage_adjusted']:\n",
    "    dataset1[f'trend_{score_type}_local'] = dataset1.groupby('company')[f'score_{score_type}_local'].diff()\n",
    "    dataset1[f'trend_{score_type}_global'] = dataset1.groupby('company')[f'score_{score_type}_global'].diff()\n"
   ]
  },
  {
   "cell_type": "markdown",
   "id": "a5f3403b",
   "metadata": {},
   "source": []
  },
  {
   "cell_type": "code",
   "execution_count": 111,
   "id": "3c1953db",
   "metadata": {},
   "outputs": [],
   "source": [
    "#bon"
   ]
  },
  {
   "cell_type": "code",
   "execution_count": 114,
   "id": "29a13fdd",
   "metadata": {},
   "outputs": [
    {
     "name": "stderr",
     "output_type": "stream",
     "text": [
      "2025-06-03 09:56:30.970 Thread 'MainThread': missing ScriptRunContext! This warning can be ignored when running in bare mode.\n",
      "2025-06-03 09:56:30.970 Thread 'MainThread': missing ScriptRunContext! This warning can be ignored when running in bare mode.\n",
      "2025-06-03 09:56:30.975 Thread 'MainThread': missing ScriptRunContext! This warning can be ignored when running in bare mode.\n",
      "2025-06-03 09:56:30.975 Thread 'MainThread': missing ScriptRunContext! This warning can be ignored when running in bare mode.\n",
      "2025-06-03 09:56:30.977 Thread 'MainThread': missing ScriptRunContext! This warning can be ignored when running in bare mode.\n",
      "2025-06-03 09:56:30.977 Thread 'MainThread': missing ScriptRunContext! This warning can be ignored when running in bare mode.\n",
      "2025-06-03 09:56:30.977 Thread 'MainThread': missing ScriptRunContext! This warning can be ignored when running in bare mode.\n",
      "2025-06-03 09:56:30.977 Thread 'MainThread': missing ScriptRunContext! This warning can be ignored when running in bare mode.\n",
      "2025-06-03 09:56:30.977 Thread 'MainThread': missing ScriptRunContext! This warning can be ignored when running in bare mode.\n",
      "2025-06-03 09:56:30.983 Thread 'MainThread': missing ScriptRunContext! This warning can be ignored when running in bare mode.\n",
      "2025-06-03 09:56:30.983 Thread 'MainThread': missing ScriptRunContext! This warning can be ignored when running in bare mode.\n",
      "2025-06-03 09:56:30.983 Thread 'MainThread': missing ScriptRunContext! This warning can be ignored when running in bare mode.\n"
     ]
    },
    {
     "data": {
      "text/plain": [
       "DeltaGenerator()"
      ]
     },
     "execution_count": 114,
     "metadata": {},
     "output_type": "execute_result"
    }
   ],
   "source": [
    "import pandas as pd\n",
    "import streamlit as st\n",
    "\n",
    "# Charger le fichier\n",
    "df = pd.read_csv(\"dataset1_complet.csv\")\n",
    "df = df.sort_values([\"company\", \"quarter\"])\n",
    "\n",
    "# Fonctions\n",
    "def get_alerts(row):\n",
    "    alerts = []\n",
    "    for score in [\"profitability\", \"liquidity\", \"solvency\", \"leverage_adjusted\"]:\n",
    "        local = row.get(f\"score_{score}_local\")\n",
    "        global_ = row.get(f\"score_{score}_global\") if score != \"profitability\" else row.get(\"score_profitabilty_global\")\n",
    "        if pd.notna(global_) and global_ < 0.2:\n",
    "            alerts.append(f\"Global Low ({score.title()})\")\n",
    "        elif pd.notna(global_) and global_ > 0.8:\n",
    "            alerts.append(f\"Global High ({score.title()})\")\n",
    "        if pd.notna(local) and local > 0.8:\n",
    "            alerts.append(f\"Local Trend ↑ ({score.title()})\")\n",
    "        elif pd.notna(local) and local < 0.2:\n",
    "            alerts.append(f\"Local Drop ↓ ({score.title()})\")\n",
    "    if pd.notna(row.get(\"revenue_growth\")):\n",
    "        if row[\"revenue_growth\"] > 0.01:\n",
    "            alerts.append(\"Rev ↑\")\n",
    "        elif row[\"revenue_growth\"] < -0.01:\n",
    "            alerts.append(\"Rev ↓\")\n",
    "    return \", \".join(alerts)\n",
    "\n",
    "def get_status(row):\n",
    "    problems = 0\n",
    "    positives = 0\n",
    "    for score in [\"profitability\", \"liquidity\", \"solvency\", \"leverage_adjusted\"]:\n",
    "        local = row.get(f\"score_{score}_local\")\n",
    "        global_ = row.get(f\"score_{score}_global\") if score != \"profitability\" else row.get(\"score_profitabilty_global\")\n",
    "        if pd.notna(local) and pd.notna(global_):\n",
    "            if local < 0.2 and global_ < 0.2:\n",
    "                problems += 1\n",
    "            elif local > 0.8 and global_ > 0.8:\n",
    "                positives += 1\n",
    "    if problems >= 2:\n",
    "        return \"Critical\"\n",
    "    elif problems == 1:\n",
    "        return \"Weak\"\n",
    "    elif positives >= 2:\n",
    "        return \"Strong\"\n",
    "    elif positives == 1:\n",
    "        return \"Improving\"\n",
    "    return \"Neutral\"\n",
    "\n",
    "# Ajouter colonnes Alert Summary et Status\n",
    "df[\"Alert Summary\"] = df.apply(get_alerts, axis=1)\n",
    "df[\"Overall Status\"] = df.apply(get_status, axis=1)\n",
    "df[\"Rev Growth\"] = df[\"revenue_growth\"].apply(lambda x: f\"{x*100:.1f}%\" if pd.notna(x) else \"\")\n",
    "\n",
    "# Interface Streamlit\n",
    "st.title(\"📊 Company Financial Score Dashboard\")\n",
    "\n",
    "# Menu déroulant\n",
    "company = st.selectbox(\"Select a company:\", sorted(df[\"company\"].unique()))\n",
    "\n",
    "# Filtrer\n",
    "df_company = df[df[\"company\"] == company]\n",
    "\n",
    "# Colonnes à afficher\n",
    "cols = {\n",
    "    \"score_profitability_local\": \"Profitability (Local)\",\n",
    "    \"score_profitabilty_global\": \"Profitability (Global)\",\n",
    "    \"score_liquidity_local\": \"Liquidity (Local)\",\n",
    "    \"score_liquidity_global\": \"Liquidity (Global)\",\n",
    "    \"score_solvency_local\": \"Solvency (Local)\",\n",
    "    \"score_solvency_global\": \"Solvency (Global)\",\n",
    "    \"score_leverage_adjusted_local\": \"Adj. Leverage (Local)\",\n",
    "    \"score_leverage_adjusted_global\": \"Adj. Leverage (Global)\",\n",
    "    \"Rev Growth\": \"Rev Growth\",\n",
    "    \"Alert Summary\": \"Alert Summary\",\n",
    "    \"Overall Status\": \"Overall Status\"\n",
    "}\n",
    "\n",
    "# Affichage\n",
    "st.subheader(f\"📈 Results for {company}\")\n",
    "st.dataframe(df_company[[\"quarter\"] + list(cols.keys())].rename(columns=cols), use_container_width=True)\n"
   ]
  },
  {
   "cell_type": "code",
   "execution_count": 115,
   "id": "b5c1f0e0",
   "metadata": {},
   "outputs": [
    {
     "ename": "SyntaxError",
     "evalue": "invalid syntax (507122745.py, line 1)",
     "output_type": "error",
     "traceback": [
      "\u001b[1;36m  Cell \u001b[1;32mIn[115], line 1\u001b[1;36m\u001b[0m\n\u001b[1;33m    streamlit run app.py\u001b[0m\n\u001b[1;37m              ^\u001b[0m\n\u001b[1;31mSyntaxError\u001b[0m\u001b[1;31m:\u001b[0m invalid syntax\n"
     ]
    }
   ],
   "source": [
    "streamlit run app.py\n"
   ]
  }
 ],
 "metadata": {
  "kernelspec": {
   "display_name": "base",
   "language": "python",
   "name": "python3"
  },
  "language_info": {
   "codemirror_mode": {
    "name": "ipython",
    "version": 3
   },
   "file_extension": ".py",
   "mimetype": "text/x-python",
   "name": "python",
   "nbconvert_exporter": "python",
   "pygments_lexer": "ipython3",
   "version": "3.11.4"
  }
 },
 "nbformat": 4,
 "nbformat_minor": 5
}
